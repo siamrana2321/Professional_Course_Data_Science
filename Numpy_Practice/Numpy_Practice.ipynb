{
 "cells": [
  {
   "cell_type": "code",
   "execution_count": 1,
   "id": "5ca8edc3-236e-400b-b288-37b068c48808",
   "metadata": {},
   "outputs": [
    {
     "data": {
      "text/plain": [
       "array([1, 2, 3, 4, 5])"
      ]
     },
     "execution_count": 1,
     "metadata": {},
     "output_type": "execute_result"
    }
   ],
   "source": [
    "import numpy as np\n",
    "# Numpy Array\n",
    "np.array([1,2,3,4,5])"
   ]
  },
  {
   "cell_type": "code",
   "execution_count": 2,
   "id": "49bff503-47ca-4d80-bef9-9e5d17ce910b",
   "metadata": {},
   "outputs": [
    {
     "data": {
      "text/plain": [
       "array([1, 2, 3, 4, 5])"
      ]
     },
     "execution_count": 2,
     "metadata": {},
     "output_type": "execute_result"
    }
   ],
   "source": [
    "# 1_Dimensional_Array\n",
    "\n",
    "arr=np.array([1,2,3,4,5])\n",
    "arr"
   ]
  },
  {
   "cell_type": "code",
   "execution_count": 3,
   "id": "2ade9a7e-5b62-4534-a75c-dc9306da4b68",
   "metadata": {},
   "outputs": [
    {
     "data": {
      "text/plain": [
       "array([[  1,   2,   3,   4,   5],\n",
       "       [201, 202, 203, 204, 205]])"
      ]
     },
     "execution_count": 3,
     "metadata": {},
     "output_type": "execute_result"
    }
   ],
   "source": [
    "# 2_Dimensional_Array\n",
    "\n",
    "arr=np.array([[1,2,3,4,5],[201,202,203,204,205]])\n",
    "arr"
   ]
  },
  {
   "cell_type": "code",
   "execution_count": 5,
   "id": "c5d64d97-24de-4e5a-a048-12f93444df2c",
   "metadata": {},
   "outputs": [
    {
     "data": {
      "text/plain": [
       "array([[[1, 2, 3],\n",
       "        [4, 5, 6]],\n",
       "\n",
       "       [[1, 2, 3],\n",
       "        [4, 5, 6]]])"
      ]
     },
     "execution_count": 5,
     "metadata": {},
     "output_type": "execute_result"
    }
   ],
   "source": [
    "# 3_Dimensional_Array\n",
    "\n",
    "arr=np.array([[[1,2,3],[4,5,6]],[[1,2,3],[4,5,6]]])\n",
    "arr"
   ]
  },
  {
   "cell_type": "code",
   "execution_count": 10,
   "id": "1ce72c82-eb65-4ae6-9346-a08fd4a95d0f",
   "metadata": {},
   "outputs": [
    {
     "name": "stdout",
     "output_type": "stream",
     "text": [
      "[[[[[1 2 3]]]]]\n",
      "number of dimensions : 5\n"
     ]
    }
   ],
   "source": [
    "# Higher_Dimensional_Array\n",
    "\n",
    "arr=np.array([1,2,3],ndmin=5)\n",
    "\n",
    "print(arr)\n",
    "print('number of dimensions :', arr.ndim)"
   ]
  },
  {
   "cell_type": "code",
   "execution_count": 16,
   "id": "d8688168-a404-437f-9aab-dd9eac7d4ff7",
   "metadata": {},
   "outputs": [
    {
     "name": "stdout",
     "output_type": "stream",
     "text": [
      "[ 4  5  7  2  6  1  9  6 10  7]\n",
      "int32\n",
      "10\n",
      "1\n",
      "5.7\n",
      "[ 1  2  4  5  6  6  7  7  9 10]\n",
      "(array([4, 7], dtype=int64),)\n"
     ]
    }
   ],
   "source": [
    "# Methods in numpy\n",
    "arr=np.array([4,5,7,2,6,1,9,6,10,7])\n",
    "print(arr)\n",
    "print(arr.dtype)\n",
    "print(arr.max())\n",
    "print(arr.min())\n",
    "print(arr.mean())\n",
    "# Press tab after \"arr.\" to see all methods\n",
    "\n",
    "print(np.sort(arr))\n",
    "x = np.where(arr == 6)\n",
    "print(x)"
   ]
  },
  {
   "cell_type": "code",
   "execution_count": 26,
   "id": "cb9e141a-f7b4-426c-8a47-a06a2b5f73fb",
   "metadata": {},
   "outputs": [
    {
     "name": "stdout",
     "output_type": "stream",
     "text": [
      "[1 2 3 4]\n",
      "[1 3 5 7 9]\n",
      "[3 5 7 9]\n",
      "[7 8]\n",
      "[7 8 9]\n",
      "[3 8]\n",
      "[[2 3 4]\n",
      " [7 8 9]]\n"
     ]
    }
   ],
   "source": [
    "# Array Slicing\n",
    "# arr[start:end]\n",
    "# arr[start:end:step]\n",
    "\n",
    "# 1_Dimensional_Array\n",
    "arr=np.array([1,2,3,4,5,6,7,8,9])\n",
    "print(arr[:4]) # Print elements of index 0 to 3\n",
    "print(arr[::2]) # 1 3 5 7 9\n",
    "print(arr[2::2]) # 3 5 7 9\n",
    "print(arr[-3:-1]) # Negative indexing 7 8\n",
    "\n",
    "# 2_Dimensional_Array\n",
    "arr2=np.array([[1,2,3,4,5],[6,7,8,9,10]])\n",
    "print(arr2[1,1:4]) # 7 8 9\n",
    "print(arr2[0:2,2]) # Print 3rd element from both array 3 8\n",
    "print(arr2[0:2,1:4]) # Print 2nd to 4th element from both array [2 3 4] [7 8 9]\n"
   ]
  },
  {
   "cell_type": "code",
   "execution_count": 31,
   "id": "d1693f59-aba2-41a3-a76e-f156d4e4e7d8",
   "metadata": {},
   "outputs": [
    {
     "name": "stdout",
     "output_type": "stream",
     "text": [
      "[0. 0. 0.]\n",
      "[[1. 1. 1.]\n",
      " [1. 1. 1.]\n",
      " [1. 1. 1.]\n",
      " [1. 1. 1.]]\n"
     ]
    }
   ],
   "source": [
    "# Genarating Dummy variable\n",
    "\n",
    "print(np.zeros(3)) # [0. 0. 0.]\n",
    "print(np.ones((4,3))) # [[1. 1. 1.] [1. 1. 1.] [1. 1. 1.] [1. 1. 1.]]\n"
   ]
  },
  {
   "cell_type": "code",
   "execution_count": 37,
   "id": "4c74aec1-2e5f-451f-a9ef-489385f66ef7",
   "metadata": {},
   "outputs": [
    {
     "name": "stdout",
     "output_type": "stream",
     "text": [
      "[0 1 2 3 4 5 6 7 8 9]\n",
      "[ 2.   2.5  3.   3.5  4.   4.5  5.   5.5  6.   6.5  7.   7.5  8.   8.5\n",
      "  9.   9.5 10.  10.5 11.  11.5 12.  12.5 13.  13.5 14.  14.5 15.  15.5\n",
      " 16.  16.5 17.  17.5 18.  18.5 19.  19.5]\n",
      "[-10  -9  -8  -7  -6  -5  -4  -3  -2  -1   0   1   2   3   4   5   6   7\n",
      "   8   9  10]\n",
      "[10  9  8  7  6  5  4  3  2  1  0  1  2  3  4  5  6  7  8  9 10]\n"
     ]
    }
   ],
   "source": [
    "# Arrange Array\n",
    "\n",
    "print(np.arange(0,10,1))\n",
    "print(np.arange(2,20,.5))\n",
    "arr=np.arange(-10,11)\n",
    "print(arr)\n",
    "print(np.absolute(arr))\n"
   ]
  },
  {
   "cell_type": "code",
   "execution_count": 43,
   "id": "ee5340d7-54d9-4140-abd0-cb7ef742d8a3",
   "metadata": {},
   "outputs": [
    {
     "name": "stdout",
     "output_type": "stream",
     "text": [
      "[-0.53039654 -1.14007728  0.19623612 -1.48036781  0.67280715  0.33010137\n",
      "  0.20532862 -0.08813177 -1.83567829  2.92546116]\n",
      "[[-1.53388794 -2.0146169  -1.11964165]\n",
      " [-0.76554857 -1.04113986 -1.64119963]\n",
      " [ 0.78740844  0.40804314  0.72211043]\n",
      " [-0.17081421 -0.45220322 -0.24440876]]\n",
      "[[[-0.06351727 -0.18763274]\n",
      "  [-0.02787321 -0.99943015]\n",
      "  [-2.60929634  0.12527518]]\n",
      "\n",
      " [[-1.81763487  0.13830065]\n",
      "  [-0.82397333 -1.29090821]\n",
      "  [ 0.82494034 -0.74825802]]\n",
      "\n",
      " [[ 0.14009887 -0.58524212]\n",
      "  [ 1.4190315   0.61580062]\n",
      "  [-1.45439583  0.15825472]]\n",
      "\n",
      " [[ 0.45070925 -0.90478544]\n",
      "  [-0.9533497  -1.05097766]\n",
      "  [ 0.99175537 -1.07093376]]]\n",
      "29\n",
      "[20 12 23]\n"
     ]
    }
   ],
   "source": [
    "# Rendom Value\n",
    "print(np.random.randn(10)) # 10 Random value\n",
    "print(np.random.randn(4,3)) # Random Value - Row=4,Column=3\n",
    "print(np.random.randn(4,3,2)) # Random Value - Problem\n",
    "\n",
    "print(np.random.randint(11,30)) # 1 Random Value - Between 11 to 30\n",
    "print(np.random.randint(11,30,3)) # 3 Random Value - Between 11 to 30"
   ]
  },
  {
   "cell_type": "code",
   "execution_count": null,
   "id": "115df117-2624-4d9e-9bdd-a1e4a63e0a7e",
   "metadata": {},
   "outputs": [],
   "source": [
    "# Numpy Operation\n"
   ]
  }
 ],
 "metadata": {
  "kernelspec": {
   "display_name": "Python 3 (ipykernel)",
   "language": "python",
   "name": "python3"
  },
  "language_info": {
   "codemirror_mode": {
    "name": "ipython",
    "version": 3
   },
   "file_extension": ".py",
   "mimetype": "text/x-python",
   "name": "python",
   "nbconvert_exporter": "python",
   "pygments_lexer": "ipython3",
   "version": "3.11.5"
  }
 },
 "nbformat": 4,
 "nbformat_minor": 5
}
